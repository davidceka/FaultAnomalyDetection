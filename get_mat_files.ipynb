{
 "cells": [
  {
   "cell_type": "code",
   "execution_count": 19,
   "metadata": {},
   "outputs": [],
   "source": [
    "import sys\n",
    "import os\n",
    "from os import listdir\n",
    "import shutil\n",
    "\n",
    "test = os.listdir(\"processed\")\n",
    "\n",
    "for item in test:\n",
    "    test1=os.listdir(\"processed/\"+item)\n",
    "    for x in test1:\n",
    "        if x.endswith(\".mat\"):\n",
    "            shutil.copy(\"/Users/davidceka/Documents/uni/manutenzione/FaultAnomalyDetection/processed/\"+item+\"/\"+x,\"mat_files/\"+x)\n",
    "\n"
   ]
  }
 ],
 "metadata": {
  "kernelspec": {
   "display_name": "Python 3",
   "language": "python",
   "name": "python3"
  },
  "language_info": {
   "codemirror_mode": {
    "name": "ipython",
    "version": 3
   },
   "file_extension": ".py",
   "mimetype": "text/x-python",
   "name": "python",
   "nbconvert_exporter": "python",
   "pygments_lexer": "ipython3",
   "version": "3.10.9"
  },
  "orig_nbformat": 4
 },
 "nbformat": 4,
 "nbformat_minor": 2
}
